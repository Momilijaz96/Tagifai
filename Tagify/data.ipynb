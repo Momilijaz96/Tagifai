{
 "cells": [
  {
   "cell_type": "code",
   "execution_count": null,
   "metadata": {},
   "outputs": [],
   "source": [
    "%pip install wordcloud\n",
    "%pip install seaborn\n",
    "%pip install ipywidgets\n",
    "%pip install nltk"
   ]
  },
  {
   "cell_type": "markdown",
   "metadata": {},
   "source": [
    "## ETL"
   ]
  },
  {
   "cell_type": "code",
   "execution_count": 121,
   "metadata": {},
   "outputs": [
    {
     "data": {
      "text/html": [
       "<div>\n",
       "<style scoped>\n",
       "    .dataframe tbody tr th:only-of-type {\n",
       "        vertical-align: middle;\n",
       "    }\n",
       "\n",
       "    .dataframe tbody tr th {\n",
       "        vertical-align: top;\n",
       "    }\n",
       "\n",
       "    .dataframe thead th {\n",
       "        text-align: right;\n",
       "    }\n",
       "</style>\n",
       "<table border=\"1\" class=\"dataframe\">\n",
       "  <thead>\n",
       "    <tr style=\"text-align: right;\">\n",
       "      <th></th>\n",
       "      <th>id</th>\n",
       "      <th>created_on</th>\n",
       "      <th>title</th>\n",
       "      <th>description</th>\n",
       "    </tr>\n",
       "  </thead>\n",
       "  <tbody>\n",
       "    <tr>\n",
       "      <th>0</th>\n",
       "      <td>6</td>\n",
       "      <td>2020-02-20 06:43:18</td>\n",
       "      <td>Comparison between YOLO and RCNN on real world...</td>\n",
       "      <td>Bringing theory to experiment is cool. We can ...</td>\n",
       "    </tr>\n",
       "    <tr>\n",
       "      <th>1</th>\n",
       "      <td>7</td>\n",
       "      <td>2020-02-20 06:47:21</td>\n",
       "      <td>Show, Infer &amp; Tell: Contextual Inference for C...</td>\n",
       "      <td>The beauty of the work lies in the way it arch...</td>\n",
       "    </tr>\n",
       "    <tr>\n",
       "      <th>2</th>\n",
       "      <td>9</td>\n",
       "      <td>2020-02-24 16:24:45</td>\n",
       "      <td>Awesome Graph Classification</td>\n",
       "      <td>A collection of important graph embedding, cla...</td>\n",
       "    </tr>\n",
       "    <tr>\n",
       "      <th>3</th>\n",
       "      <td>15</td>\n",
       "      <td>2020-02-28 23:55:26</td>\n",
       "      <td>Awesome Monte Carlo Tree Search</td>\n",
       "      <td>A curated list of Monte Carlo tree search pape...</td>\n",
       "    </tr>\n",
       "    <tr>\n",
       "      <th>4</th>\n",
       "      <td>19</td>\n",
       "      <td>2020-03-03 13:54:31</td>\n",
       "      <td>Diffusion to Vector</td>\n",
       "      <td>Reference implementation of Diffusion2Vec (Com...</td>\n",
       "    </tr>\n",
       "  </tbody>\n",
       "</table>\n",
       "</div>"
      ],
      "text/plain": [
       "   id           created_on                                              title  \\\n",
       "0   6  2020-02-20 06:43:18  Comparison between YOLO and RCNN on real world...   \n",
       "1   7  2020-02-20 06:47:21  Show, Infer & Tell: Contextual Inference for C...   \n",
       "2   9  2020-02-24 16:24:45                       Awesome Graph Classification   \n",
       "3  15  2020-02-28 23:55:26                    Awesome Monte Carlo Tree Search   \n",
       "4  19  2020-03-03 13:54:31                                Diffusion to Vector   \n",
       "\n",
       "                                         description  \n",
       "0  Bringing theory to experiment is cool. We can ...  \n",
       "1  The beauty of the work lies in the way it arch...  \n",
       "2  A collection of important graph embedding, cla...  \n",
       "3  A curated list of Monte Carlo tree search pape...  \n",
       "4  Reference implementation of Diffusion2Vec (Com...  "
      ]
     },
     "execution_count": 121,
     "metadata": {},
     "output_type": "execute_result"
    }
   ],
   "source": [
    "#Extraction\n",
    "projects = pd.read_csv('projects.csv')\n",
    "tags = pd.read_csv('tags.csv')\n",
    "projects.head()"
   ]
  },
  {
   "cell_type": "code",
   "execution_count": 122,
   "metadata": {},
   "outputs": [
    {
     "data": {
      "text/html": [
       "<div>\n",
       "<style scoped>\n",
       "    .dataframe tbody tr th:only-of-type {\n",
       "        vertical-align: middle;\n",
       "    }\n",
       "\n",
       "    .dataframe tbody tr th {\n",
       "        vertical-align: top;\n",
       "    }\n",
       "\n",
       "    .dataframe thead th {\n",
       "        text-align: right;\n",
       "    }\n",
       "</style>\n",
       "<table border=\"1\" class=\"dataframe\">\n",
       "  <thead>\n",
       "    <tr style=\"text-align: right;\">\n",
       "      <th></th>\n",
       "      <th>id</th>\n",
       "      <th>tag</th>\n",
       "    </tr>\n",
       "  </thead>\n",
       "  <tbody>\n",
       "    <tr>\n",
       "      <th>0</th>\n",
       "      <td>6</td>\n",
       "      <td>computer-vision</td>\n",
       "    </tr>\n",
       "    <tr>\n",
       "      <th>1</th>\n",
       "      <td>7</td>\n",
       "      <td>computer-vision</td>\n",
       "    </tr>\n",
       "    <tr>\n",
       "      <th>2</th>\n",
       "      <td>9</td>\n",
       "      <td>graph-learning</td>\n",
       "    </tr>\n",
       "    <tr>\n",
       "      <th>3</th>\n",
       "      <td>15</td>\n",
       "      <td>reinforcement-learning</td>\n",
       "    </tr>\n",
       "    <tr>\n",
       "      <th>4</th>\n",
       "      <td>19</td>\n",
       "      <td>graph-learning</td>\n",
       "    </tr>\n",
       "  </tbody>\n",
       "</table>\n",
       "</div>"
      ],
      "text/plain": [
       "   id                     tag\n",
       "0   6         computer-vision\n",
       "1   7         computer-vision\n",
       "2   9          graph-learning\n",
       "3  15  reinforcement-learning\n",
       "4  19          graph-learning"
      ]
     },
     "execution_count": 122,
     "metadata": {},
     "output_type": "execute_result"
    }
   ],
   "source": [
    "tags.head()"
   ]
  },
  {
   "cell_type": "code",
   "execution_count": 123,
   "metadata": {},
   "outputs": [
    {
     "data": {
      "text/html": [
       "<div>\n",
       "<style scoped>\n",
       "    .dataframe tbody tr th:only-of-type {\n",
       "        vertical-align: middle;\n",
       "    }\n",
       "\n",
       "    .dataframe tbody tr th {\n",
       "        vertical-align: top;\n",
       "    }\n",
       "\n",
       "    .dataframe thead th {\n",
       "        text-align: right;\n",
       "    }\n",
       "</style>\n",
       "<table border=\"1\" class=\"dataframe\">\n",
       "  <thead>\n",
       "    <tr style=\"text-align: right;\">\n",
       "      <th></th>\n",
       "      <th>id</th>\n",
       "      <th>tag</th>\n",
       "      <th>created_on</th>\n",
       "      <th>title</th>\n",
       "      <th>description</th>\n",
       "    </tr>\n",
       "  </thead>\n",
       "  <tbody>\n",
       "    <tr>\n",
       "      <th>0</th>\n",
       "      <td>6</td>\n",
       "      <td>computer-vision</td>\n",
       "      <td>2020-02-20 06:43:18</td>\n",
       "      <td>Comparison between YOLO and RCNN on real world...</td>\n",
       "      <td>Bringing theory to experiment is cool. We can ...</td>\n",
       "    </tr>\n",
       "    <tr>\n",
       "      <th>1</th>\n",
       "      <td>7</td>\n",
       "      <td>computer-vision</td>\n",
       "      <td>2020-02-20 06:47:21</td>\n",
       "      <td>Show, Infer &amp; Tell: Contextual Inference for C...</td>\n",
       "      <td>The beauty of the work lies in the way it arch...</td>\n",
       "    </tr>\n",
       "    <tr>\n",
       "      <th>2</th>\n",
       "      <td>9</td>\n",
       "      <td>graph-learning</td>\n",
       "      <td>2020-02-24 16:24:45</td>\n",
       "      <td>Awesome Graph Classification</td>\n",
       "      <td>A collection of important graph embedding, cla...</td>\n",
       "    </tr>\n",
       "    <tr>\n",
       "      <th>3</th>\n",
       "      <td>15</td>\n",
       "      <td>reinforcement-learning</td>\n",
       "      <td>2020-02-28 23:55:26</td>\n",
       "      <td>Awesome Monte Carlo Tree Search</td>\n",
       "      <td>A curated list of Monte Carlo tree search pape...</td>\n",
       "    </tr>\n",
       "    <tr>\n",
       "      <th>4</th>\n",
       "      <td>19</td>\n",
       "      <td>graph-learning</td>\n",
       "      <td>2020-03-03 13:54:31</td>\n",
       "      <td>Diffusion to Vector</td>\n",
       "      <td>Reference implementation of Diffusion2Vec (Com...</td>\n",
       "    </tr>\n",
       "  </tbody>\n",
       "</table>\n",
       "</div>"
      ],
      "text/plain": [
       "   id                     tag           created_on  \\\n",
       "0   6         computer-vision  2020-02-20 06:43:18   \n",
       "1   7         computer-vision  2020-02-20 06:47:21   \n",
       "2   9          graph-learning  2020-02-24 16:24:45   \n",
       "3  15  reinforcement-learning  2020-02-28 23:55:26   \n",
       "4  19          graph-learning  2020-03-03 13:54:31   \n",
       "\n",
       "                                               title  \\\n",
       "0  Comparison between YOLO and RCNN on real world...   \n",
       "1  Show, Infer & Tell: Contextual Inference for C...   \n",
       "2                       Awesome Graph Classification   \n",
       "3                    Awesome Monte Carlo Tree Search   \n",
       "4                                Diffusion to Vector   \n",
       "\n",
       "                                         description  \n",
       "0  Bringing theory to experiment is cool. We can ...  \n",
       "1  The beauty of the work lies in the way it arch...  \n",
       "2  A collection of important graph embedding, cla...  \n",
       "3  A curated list of Monte Carlo tree search pape...  \n",
       "4  Reference implementation of Diffusion2Vec (Com...  "
      ]
     },
     "execution_count": 123,
     "metadata": {},
     "output_type": "execute_result"
    }
   ],
   "source": [
    "#Transform\n",
    "df = pd.merge(tags,projects,on='id')\n",
    "df.head()"
   ]
  },
  {
   "cell_type": "code",
   "execution_count": 124,
   "metadata": {},
   "outputs": [
    {
     "data": {
      "text/plain": [
       "0      False\n",
       "1      False\n",
       "2      False\n",
       "3      False\n",
       "4      False\n",
       "       ...  \n",
       "950    False\n",
       "951    False\n",
       "952    False\n",
       "953    False\n",
       "954    False\n",
       "Name: tag, Length: 955, dtype: bool"
      ]
     },
     "execution_count": 124,
     "metadata": {},
     "output_type": "execute_result"
    }
   ],
   "source": [
    "df.tag.isnull()"
   ]
  },
  {
   "cell_type": "code",
   "execution_count": 125,
   "metadata": {},
   "outputs": [],
   "source": [
    "df = df.loc[df.tag.notnull(),:]"
   ]
  },
  {
   "cell_type": "code",
   "execution_count": 126,
   "metadata": {},
   "outputs": [
    {
     "data": {
      "text/plain": [
       "0      Comparison between YOLO and RCNN on real world...\n",
       "1      Show, Infer & Tell: Contextual Inference for C...\n",
       "2      Awesome Graph Classification A collection of i...\n",
       "3      Awesome Monte Carlo Tree Search A curated list...\n",
       "4      Diffusion to Vector Reference implementation o...\n",
       "                             ...                        \n",
       "950    A Survey of the State of Explainable AI for NL...\n",
       "951    Topic Modeling with BERT Leveraging 🤗 Transfor...\n",
       "952    OpenMMLab Computer Vision MMCV is a python lib...\n",
       "953    Machine Learning Methods Explained (+ Examples...\n",
       "954    Rasoee A powerful web and mobile application t...\n",
       "Name: text, Length: 955, dtype: object"
      ]
     },
     "execution_count": 126,
     "metadata": {},
     "output_type": "execute_result"
    }
   ],
   "source": [
    "df['text'] = df.title +' ' + df.description\n",
    "df.text "
   ]
  },
  {
   "cell_type": "code",
   "execution_count": 127,
   "metadata": {},
   "outputs": [
    {
     "data": {
      "text/html": [
       "<div>\n",
       "<style scoped>\n",
       "    .dataframe tbody tr th:only-of-type {\n",
       "        vertical-align: middle;\n",
       "    }\n",
       "\n",
       "    .dataframe tbody tr th {\n",
       "        vertical-align: top;\n",
       "    }\n",
       "\n",
       "    .dataframe thead th {\n",
       "        text-align: right;\n",
       "    }\n",
       "</style>\n",
       "<table border=\"1\" class=\"dataframe\">\n",
       "  <thead>\n",
       "    <tr style=\"text-align: right;\">\n",
       "      <th></th>\n",
       "      <th>tag</th>\n",
       "      <th>text</th>\n",
       "    </tr>\n",
       "  </thead>\n",
       "  <tbody>\n",
       "    <tr>\n",
       "      <th>0</th>\n",
       "      <td>computer-vision</td>\n",
       "      <td>Comparison between YOLO and RCNN on real world...</td>\n",
       "    </tr>\n",
       "    <tr>\n",
       "      <th>1</th>\n",
       "      <td>computer-vision</td>\n",
       "      <td>Show, Infer &amp; Tell: Contextual Inference for C...</td>\n",
       "    </tr>\n",
       "    <tr>\n",
       "      <th>2</th>\n",
       "      <td>graph-learning</td>\n",
       "      <td>Awesome Graph Classification A collection of i...</td>\n",
       "    </tr>\n",
       "    <tr>\n",
       "      <th>3</th>\n",
       "      <td>reinforcement-learning</td>\n",
       "      <td>Awesome Monte Carlo Tree Search A curated list...</td>\n",
       "    </tr>\n",
       "    <tr>\n",
       "      <th>4</th>\n",
       "      <td>graph-learning</td>\n",
       "      <td>Diffusion to Vector Reference implementation o...</td>\n",
       "    </tr>\n",
       "  </tbody>\n",
       "</table>\n",
       "</div>"
      ],
      "text/plain": [
       "                      tag                                               text\n",
       "0         computer-vision  Comparison between YOLO and RCNN on real world...\n",
       "1         computer-vision  Show, Infer & Tell: Contextual Inference for C...\n",
       "2          graph-learning  Awesome Graph Classification A collection of i...\n",
       "3  reinforcement-learning  Awesome Monte Carlo Tree Search A curated list...\n",
       "4          graph-learning  Diffusion to Vector Reference implementation o..."
      ]
     },
     "execution_count": 127,
     "metadata": {},
     "output_type": "execute_result"
    }
   ],
   "source": [
    "df.drop([ 'description','title','created_on','id' ],axis=1,inplace=True)\n",
    "df.head()"
   ]
  },
  {
   "cell_type": "code",
   "execution_count": 128,
   "metadata": {},
   "outputs": [],
   "source": [
    "#Save the transformed data\n",
    "df.to_csv('labeled_projects.csv',index=False)"
   ]
  },
  {
   "cell_type": "markdown",
   "metadata": {},
   "source": [
    "## EDA"
   ]
  },
  {
   "cell_type": "code",
   "execution_count": null,
   "metadata": {},
   "outputs": [],
   "source": [
    "from collections import Counter\n",
    "import ipywidgets as widgets\n",
    "import matplotlib.pyplot as plt\n",
    "import seaborn as sns\n",
    "import warnings\n",
    "from wordcloud import WordCloud, STOPWORDS\n",
    "sns.set_theme()\n",
    "warnings.filterwarnings(\"ignore\")\n",
    "import re"
   ]
  },
  {
   "cell_type": "code",
   "execution_count": 2,
   "metadata": {},
   "outputs": [],
   "source": [
    "df = pd.read_csv('labeled_projects.csv')"
   ]
  },
  {
   "cell_type": "code",
   "execution_count": 3,
   "metadata": {},
   "outputs": [
    {
     "data": {
      "text/html": [
       "<div>\n",
       "<style scoped>\n",
       "    .dataframe tbody tr th:only-of-type {\n",
       "        vertical-align: middle;\n",
       "    }\n",
       "\n",
       "    .dataframe tbody tr th {\n",
       "        vertical-align: top;\n",
       "    }\n",
       "\n",
       "    .dataframe thead th {\n",
       "        text-align: right;\n",
       "    }\n",
       "</style>\n",
       "<table border=\"1\" class=\"dataframe\">\n",
       "  <thead>\n",
       "    <tr style=\"text-align: right;\">\n",
       "      <th></th>\n",
       "      <th>id</th>\n",
       "      <th>tag</th>\n",
       "      <th>created_on</th>\n",
       "      <th>title</th>\n",
       "      <th>description</th>\n",
       "    </tr>\n",
       "  </thead>\n",
       "  <tbody>\n",
       "    <tr>\n",
       "      <th>0</th>\n",
       "      <td>6</td>\n",
       "      <td>computer-vision</td>\n",
       "      <td>2020-02-20 06:43:18</td>\n",
       "      <td>Comparison between YOLO and RCNN on real world...</td>\n",
       "      <td>Bringing theory to experiment is cool. We can ...</td>\n",
       "    </tr>\n",
       "    <tr>\n",
       "      <th>1</th>\n",
       "      <td>7</td>\n",
       "      <td>computer-vision</td>\n",
       "      <td>2020-02-20 06:47:21</td>\n",
       "      <td>Show, Infer &amp; Tell: Contextual Inference for C...</td>\n",
       "      <td>The beauty of the work lies in the way it arch...</td>\n",
       "    </tr>\n",
       "    <tr>\n",
       "      <th>2</th>\n",
       "      <td>9</td>\n",
       "      <td>graph-learning</td>\n",
       "      <td>2020-02-24 16:24:45</td>\n",
       "      <td>Awesome Graph Classification</td>\n",
       "      <td>A collection of important graph embedding, cla...</td>\n",
       "    </tr>\n",
       "    <tr>\n",
       "      <th>3</th>\n",
       "      <td>15</td>\n",
       "      <td>reinforcement-learning</td>\n",
       "      <td>2020-02-28 23:55:26</td>\n",
       "      <td>Awesome Monte Carlo Tree Search</td>\n",
       "      <td>A curated list of Monte Carlo tree search pape...</td>\n",
       "    </tr>\n",
       "    <tr>\n",
       "      <th>4</th>\n",
       "      <td>19</td>\n",
       "      <td>graph-learning</td>\n",
       "      <td>2020-03-03 13:54:31</td>\n",
       "      <td>Diffusion to Vector</td>\n",
       "      <td>Reference implementation of Diffusion2Vec (Com...</td>\n",
       "    </tr>\n",
       "  </tbody>\n",
       "</table>\n",
       "</div>"
      ],
      "text/plain": [
       "   id                     tag           created_on  \\\n",
       "0   6         computer-vision  2020-02-20 06:43:18   \n",
       "1   7         computer-vision  2020-02-20 06:47:21   \n",
       "2   9          graph-learning  2020-02-24 16:24:45   \n",
       "3  15  reinforcement-learning  2020-02-28 23:55:26   \n",
       "4  19          graph-learning  2020-03-03 13:54:31   \n",
       "\n",
       "                                               title  \\\n",
       "0  Comparison between YOLO and RCNN on real world...   \n",
       "1  Show, Infer & Tell: Contextual Inference for C...   \n",
       "2                       Awesome Graph Classification   \n",
       "3                    Awesome Monte Carlo Tree Search   \n",
       "4                                Diffusion to Vector   \n",
       "\n",
       "                                         description  \n",
       "0  Bringing theory to experiment is cool. We can ...  \n",
       "1  The beauty of the work lies in the way it arch...  \n",
       "2  A collection of important graph embedding, cla...  \n",
       "3  A curated list of Monte Carlo tree search pape...  \n",
       "4  Reference implementation of Diffusion2Vec (Com...  "
      ]
     },
     "execution_count": 3,
     "metadata": {},
     "output_type": "execute_result"
    }
   ],
   "source": [
    "df.head()"
   ]
  },
  {
   "cell_type": "code",
   "execution_count": null,
   "metadata": {},
   "outputs": [],
   "source": [
    "#Tags distribution\n",
    "df.tag.hist()"
   ]
  },
  {
   "cell_type": "code",
   "execution_count": null,
   "metadata": {},
   "outputs": [],
   "source": [
    "#Wordcloud of description feature\n",
    "def get_wc(df,tag):\n",
    "    tag_titles = df.loc[df.tag==tag,'title']\n",
    "    cloud = WordCloud(stopwords=STOPWORDS,collocations=False,width=500, height=300).generate(' '.join(tag_titles.to_list()))\n",
    "    plt.imshow(cloud)\n"
   ]
  },
  {
   "cell_type": "code",
   "execution_count": null,
   "metadata": {},
   "outputs": [],
   "source": [
    "get_wc(df,'natural-language-processing')"
   ]
  },
  {
   "cell_type": "code",
   "execution_count": null,
   "metadata": {},
   "outputs": [],
   "source": [
    "get_wc(df,'mlops')"
   ]
  },
  {
   "cell_type": "code",
   "execution_count": null,
   "metadata": {},
   "outputs": [],
   "source": [
    "get_wc(df,'time-series')"
   ]
  },
  {
   "cell_type": "code",
   "execution_count": null,
   "metadata": {},
   "outputs": [],
   "source": [
    "df.tag.unique()"
   ]
  },
  {
   "cell_type": "code",
   "execution_count": null,
   "metadata": {},
   "outputs": [],
   "source": []
  },
  {
   "cell_type": "markdown",
   "metadata": {},
   "source": [
    "## Preprocessing"
   ]
  },
  {
   "cell_type": "code",
   "execution_count": 136,
   "metadata": {},
   "outputs": [],
   "source": [
    "import re\n",
    "import pandas as pd\n",
    "import nltk\n",
    "from nltk.corpus import stopwords\n",
    "from nltk.stem import PorterStemmer\n",
    "from nltk.stem import WordNetLemmatizer\n",
    "from collections import Counter\n",
    "#Label Ecnoding\n",
    "from sklearn.preprocessing import LabelEncoder\n",
    "\n",
    "# nltk.download('wordnet')\n",
    "# nltk.download('omw-1.4')"
   ]
  },
  {
   "cell_type": "code",
   "execution_count": 129,
   "metadata": {},
   "outputs": [],
   "source": [
    "df = pd.read_csv('labeled_projects.csv')"
   ]
  },
  {
   "cell_type": "code",
   "execution_count": 130,
   "metadata": {},
   "outputs": [
    {
     "data": {
      "text/html": [
       "<div>\n",
       "<style scoped>\n",
       "    .dataframe tbody tr th:only-of-type {\n",
       "        vertical-align: middle;\n",
       "    }\n",
       "\n",
       "    .dataframe tbody tr th {\n",
       "        vertical-align: top;\n",
       "    }\n",
       "\n",
       "    .dataframe thead th {\n",
       "        text-align: right;\n",
       "    }\n",
       "</style>\n",
       "<table border=\"1\" class=\"dataframe\">\n",
       "  <thead>\n",
       "    <tr style=\"text-align: right;\">\n",
       "      <th></th>\n",
       "      <th>tag</th>\n",
       "      <th>text</th>\n",
       "    </tr>\n",
       "  </thead>\n",
       "  <tbody>\n",
       "    <tr>\n",
       "      <th>0</th>\n",
       "      <td>computer-vision</td>\n",
       "      <td>Comparison between YOLO and RCNN on real world...</td>\n",
       "    </tr>\n",
       "    <tr>\n",
       "      <th>1</th>\n",
       "      <td>computer-vision</td>\n",
       "      <td>Show, Infer &amp; Tell: Contextual Inference for C...</td>\n",
       "    </tr>\n",
       "    <tr>\n",
       "      <th>2</th>\n",
       "      <td>graph-learning</td>\n",
       "      <td>Awesome Graph Classification A collection of i...</td>\n",
       "    </tr>\n",
       "    <tr>\n",
       "      <th>3</th>\n",
       "      <td>reinforcement-learning</td>\n",
       "      <td>Awesome Monte Carlo Tree Search A curated list...</td>\n",
       "    </tr>\n",
       "    <tr>\n",
       "      <th>4</th>\n",
       "      <td>graph-learning</td>\n",
       "      <td>Diffusion to Vector Reference implementation o...</td>\n",
       "    </tr>\n",
       "  </tbody>\n",
       "</table>\n",
       "</div>"
      ],
      "text/plain": [
       "                      tag                                               text\n",
       "0         computer-vision  Comparison between YOLO and RCNN on real world...\n",
       "1         computer-vision  Show, Infer & Tell: Contextual Inference for C...\n",
       "2          graph-learning  Awesome Graph Classification A collection of i...\n",
       "3  reinforcement-learning  Awesome Monte Carlo Tree Search A curated list...\n",
       "4          graph-learning  Diffusion to Vector Reference implementation o..."
      ]
     },
     "execution_count": 130,
     "metadata": {},
     "output_type": "execute_result"
    }
   ],
   "source": [
    "df.head()"
   ]
  },
  {
   "cell_type": "code",
   "execution_count": 131,
   "metadata": {},
   "outputs": [],
   "source": [
    "# Clean the text\n",
    "def clean_text(text,lower=True,stem=True,stopwords=STOPWORDS):\n",
    "    if lower:\n",
    "        text = text.lower()\n",
    "    \n",
    "    #Remove non-alphanumeric\n",
    "    text = re.sub(r\"([!\\\"'#$%&()*\\+,-./:;<=>?@\\\\\\[\\]^_`{|}~])\", r\" \\1 \", text )  \n",
    "    text = re.sub(\"[^A-Za-z0-9]+\", \" \", text) \n",
    "\n",
    "    #Remove links\n",
    "    text = re.sub('http\\S+',\"\",text)\n",
    "    \n",
    "    #tokenize\n",
    "    text = text.split()\n",
    "\n",
    "    #Remove  stopwords \n",
    "    new_text = []\n",
    "    for word in text:   \n",
    "        if word not in stopwords:\n",
    "            new_text.append(word)\n",
    "    text = new_text \n",
    "    \n",
    "    # Stem\n",
    "    if stem:\n",
    "        stemmer = PorterStemmer()\n",
    "        text = stemmer.stem(' '.join(text))\n",
    "        \n",
    "    return text"
   ]
  },
  {
   "cell_type": "code",
   "execution_count": 134,
   "metadata": {},
   "outputs": [],
   "source": [
    "# Remove other irrelevant tags\n",
    "def remove_minfreq_labels(df,label,default,freq):\n",
    "    oos_labels = []\n",
    "    for tag,tag_freq in Counter(df[label]).most_common():\n",
    "        if tag_freq<freq:\n",
    "            oos_labels.append(tag)\n",
    "    df.loc[df[label].isin(oos_labels), label] = default\n",
    "    return df\n"
   ]
  },
  {
   "cell_type": "code",
   "execution_count": null,
   "metadata": {},
   "outputs": [],
   "source": [
    "STOPWORDS = stopwords.words(\"english\")\n",
    "ACCEPTED_TAGS = ['computer-vision', 'mlops', 'natural-language-processing', 'other']"
   ]
  },
  {
   "cell_type": "code",
   "execution_count": null,
   "metadata": {},
   "outputs": [],
   "source": [
    "def preprocess(df,lower,stem,min_freq):\n",
    "    # Clean text\n",
    "    df['text'] = df['text'].apply(clean_text,args=(lower,stem))\n",
    "\n",
    "    # Remove OOS labels\n",
    "    df.loc[ ~ df.tag.isin(ACCEPTED_TAGS), 'tag' ] = 'other'\n",
    "\n",
    "    # Replace labels below min freq\n",
    "    df = remove_minfreq_labels(df,'tag','other',min_freq)\n",
    "\n",
    "    return df\n"
   ]
  },
  {
   "cell_type": "code",
   "execution_count": null,
   "metadata": {},
   "outputs": [],
   "source": [
    "preprocess(df,True,True,75)#.to_csv('prep_labelled_projects.csv',index=False)"
   ]
  },
  {
   "cell_type": "markdown",
   "metadata": {},
   "source": [
    "## Splitting"
   ]
  },
  {
   "cell_type": "code",
   "execution_count": 141,
   "metadata": {},
   "outputs": [],
   "source": [
    "# Split using test_train split of sklearn\n",
    "from sklearn.model_selection import train_test_split\n",
    "import pandas as pd\n"
   ]
  },
  {
   "cell_type": "code",
   "execution_count": 142,
   "metadata": {},
   "outputs": [
    {
     "data": {
      "text/html": [
       "<div>\n",
       "<style scoped>\n",
       "    .dataframe tbody tr th:only-of-type {\n",
       "        vertical-align: middle;\n",
       "    }\n",
       "\n",
       "    .dataframe tbody tr th {\n",
       "        vertical-align: top;\n",
       "    }\n",
       "\n",
       "    .dataframe thead th {\n",
       "        text-align: right;\n",
       "    }\n",
       "</style>\n",
       "<table border=\"1\" class=\"dataframe\">\n",
       "  <thead>\n",
       "    <tr style=\"text-align: right;\">\n",
       "      <th></th>\n",
       "      <th>tag</th>\n",
       "      <th>text</th>\n",
       "    </tr>\n",
       "  </thead>\n",
       "  <tbody>\n",
       "    <tr>\n",
       "      <th>0</th>\n",
       "      <td>computer-vision</td>\n",
       "      <td>Comparison between YOLO and RCNN on real world...</td>\n",
       "    </tr>\n",
       "    <tr>\n",
       "      <th>1</th>\n",
       "      <td>computer-vision</td>\n",
       "      <td>Show, Infer &amp; Tell: Contextual Inference for C...</td>\n",
       "    </tr>\n",
       "    <tr>\n",
       "      <th>2</th>\n",
       "      <td>other</td>\n",
       "      <td>Awesome Graph Classification A collection of i...</td>\n",
       "    </tr>\n",
       "    <tr>\n",
       "      <th>3</th>\n",
       "      <td>other</td>\n",
       "      <td>Awesome Monte Carlo Tree Search A curated list...</td>\n",
       "    </tr>\n",
       "    <tr>\n",
       "      <th>4</th>\n",
       "      <td>other</td>\n",
       "      <td>Diffusion to Vector Reference implementation o...</td>\n",
       "    </tr>\n",
       "  </tbody>\n",
       "</table>\n",
       "</div>"
      ],
      "text/plain": [
       "               tag                                               text\n",
       "0  computer-vision  Comparison between YOLO and RCNN on real world...\n",
       "1  computer-vision  Show, Infer & Tell: Contextual Inference for C...\n",
       "2            other  Awesome Graph Classification A collection of i...\n",
       "3            other  Awesome Monte Carlo Tree Search A curated list...\n",
       "4            other  Diffusion to Vector Reference implementation o..."
      ]
     },
     "execution_count": 142,
     "metadata": {},
     "output_type": "execute_result"
    }
   ],
   "source": [
    "df = pd.read_csv('prep_labelled_projects.csv')\n",
    "df.head"
   ]
  },
  {
   "cell_type": "code",
   "execution_count": 187,
   "metadata": {},
   "outputs": [],
   "source": [
    "def split_data(X,y,train_size=0.7):\n",
    "    X_train,X_,y_train,y_ = train_test_split(X,y,test_size=0.3,stratify=y)\n",
    "    X_val,X_test,y_val,y_test = train_test_split(X_,y_,test_size=0.5,stratify=y_)\n",
    "    return X_train,X_val,X_test,y_train,y_val,y_test"
   ]
  },
  {
   "cell_type": "markdown",
   "metadata": {},
   "source": [
    "## Augmentation"
   ]
  },
  {
   "cell_type": "code",
   "execution_count": null,
   "metadata": {},
   "outputs": [],
   "source": [
    "#Optional for Augmentation\n",
    "le = LabelEncoder()\n",
    "X_train,_,_,_,_,_ = split_data(df.text.to_numpy(),le.fit_transform(df.tag.to_numpy()) )\n",
    "train_df = pd.DataFrame(X_train,columns = ['text'])\n",
    "train_df.head()"
   ]
  },
  {
   "cell_type": "code",
   "execution_count": 147,
   "metadata": {},
   "outputs": [],
   "source": [
    "# %pip install nlpaug==1.1.0 \n",
    "# %pip install transformers==3.0.2 \n",
    "# %pip install snorkel==0.9.8 \n"
   ]
  },
  {
   "cell_type": "code",
   "execution_count": 148,
   "metadata": {},
   "outputs": [],
   "source": [
    "import re\n",
    "from snorkel.augmentation import transformation_function\n",
    "import random"
   ]
  },
  {
   "cell_type": "code",
   "execution_count": 149,
   "metadata": {},
   "outputs": [],
   "source": [
    "# Aliases\n",
    "aliases_by_tag = {\n",
    "    \"computer vision\": [\"cv\", \"vision\"],\n",
    "    \"mlops\": [\"production\"],\n",
    "    \"natural language processing\": [\"nlp\", \"nlproc\"]\n",
    "}\n"
   ]
  },
  {
   "cell_type": "code",
   "execution_count": 150,
   "metadata": {},
   "outputs": [
    {
     "name": "stdout",
     "output_type": "stream",
     "text": [
      "{'computer vision': ['cv', 'vision'], 'mlops': ['production'], 'natural language processing': ['nlp', 'nlproc'], 'cv': ['computer vision', 'vision'], 'vision': ['computer vision', 'cv'], 'production': ['mlops'], 'nlp': ['natural language processing', 'nlproc'], 'nlproc': ['natural language processing', 'nlp']}\n"
     ]
    }
   ],
   "source": [
    "res = aliases_by_tag.copy()\n",
    "for tag,alias in aliases_by_tag.items():\n",
    "    for idx in range(len(alias)):\n",
    "        res[alias[idx]] = [tag] + alias[idx+1:] + alias[:idx]\n",
    "print(res)\n",
    "aliases_by_tag = res"
   ]
  },
  {
   "cell_type": "code",
   "execution_count": 151,
   "metadata": {},
   "outputs": [],
   "source": [
    "# \\b matches spaces\n",
    "def find_word(word, text):\n",
    "    word = word.replace(\"+\", \"\\+\")\n",
    "    pattern = re.compile(fr\"\\b({word})\\b\", flags=re.IGNORECASE)\n",
    "    return pattern.search(text)\n"
   ]
  },
  {
   "cell_type": "code",
   "execution_count": 152,
   "metadata": {},
   "outputs": [],
   "source": [
    "#Define a swap aliases function to replace the aliases in a given text feature.find_word\n",
    "#with random words from the matched list\n",
    "@transformation_function()\n",
    "def swap_aliases(x):\n",
    "    matches = []\n",
    "    for tag,aliases in aliases_by_tag.items():\n",
    "        match = find_word(tag,x.text)\n",
    "        if match:\n",
    "            matches.append( (tag,match) )\n",
    "    if len(matches):\n",
    "        tag,match = random.choice( matches )\n",
    "        x.text = x.text.replace( tag, random.choice(aliases_by_tag[tag]) )\n",
    "    return x\n"
   ]
  },
  {
   "cell_type": "code",
   "execution_count": 153,
   "metadata": {},
   "outputs": [
    {
     "name": "stderr",
     "output_type": "stream",
     "text": [
      "100%|██████████| 668/668 [00:01<00:00, 608.74it/s]\n"
     ]
    }
   ],
   "source": [
    "# Define augmentation policy with certain ruules\n",
    "from snorkel.augmentation import ApplyOnePolicy, PandasTFApplier\n",
    "policy = ApplyOnePolicy(5,keep_original=True)\n",
    "tf_applier = PandasTFApplier([swap_aliases],policy=policy)\n",
    "train_df_aug = tf_applier.apply(train_df)"
   ]
  },
  {
   "cell_type": "code",
   "execution_count": 154,
   "metadata": {},
   "outputs": [],
   "source": [
    "train_df_aug.drop_duplicates(subset=[\"text\"], inplace=True)\n"
   ]
  },
  {
   "cell_type": "code",
   "execution_count": 155,
   "metadata": {},
   "outputs": [
    {
     "name": "stdout",
     "output_type": "stream",
     "text": [
      "Original train df:  668\n",
      "Augmented train df:  725\n"
     ]
    }
   ],
   "source": [
    "print(\"Original train df: \",len(train_df) )\n",
    "print(\"Augmented train df: \",len(train_df_aug))\n"
   ]
  },
  {
   "cell_type": "code",
   "execution_count": 156,
   "metadata": {},
   "outputs": [
    {
     "data": {
      "text/html": [
       "<div>\n",
       "<style scoped>\n",
       "    .dataframe tbody tr th:only-of-type {\n",
       "        vertical-align: middle;\n",
       "    }\n",
       "\n",
       "    .dataframe tbody tr th {\n",
       "        vertical-align: top;\n",
       "    }\n",
       "\n",
       "    .dataframe thead th {\n",
       "        text-align: right;\n",
       "    }\n",
       "</style>\n",
       "<table border=\"1\" class=\"dataframe\">\n",
       "  <thead>\n",
       "    <tr style=\"text-align: right;\">\n",
       "      <th></th>\n",
       "      <th>text</th>\n",
       "    </tr>\n",
       "  </thead>\n",
       "  <tbody>\n",
       "    <tr>\n",
       "      <th>0</th>\n",
       "      <td>Training game agents with supervised learning ...</td>\n",
       "    </tr>\n",
       "    <tr>\n",
       "      <th>1</th>\n",
       "      <td>Azure Machine Learning Template Azure Machine ...</td>\n",
       "    </tr>\n",
       "    <tr>\n",
       "      <th>2</th>\n",
       "      <td>Finetune: Scikit-learn Style Model Finetuning ...</td>\n",
       "    </tr>\n",
       "    <tr>\n",
       "      <th>3</th>\n",
       "      <td>Understanding Convolutional Neural Networks fo...</td>\n",
       "    </tr>\n",
       "    <tr>\n",
       "      <th>4</th>\n",
       "      <td>Spacy-Go spacy-go is Golang interface for acce...</td>\n",
       "    </tr>\n",
       "    <tr>\n",
       "      <th>5</th>\n",
       "      <td>Semixup: In- and Out-of-Manifold Regularizatio...</td>\n",
       "    </tr>\n",
       "    <tr>\n",
       "      <th>6</th>\n",
       "      <td>Pytest The pytest framework makes it easy to w...</td>\n",
       "    </tr>\n",
       "    <tr>\n",
       "      <th>7</th>\n",
       "      <td>Short Notes on Model-Based Offline Reinforceme...</td>\n",
       "    </tr>\n",
       "    <tr>\n",
       "      <th>8</th>\n",
       "      <td>How to Train a New Language Model From Scratch...</td>\n",
       "    </tr>\n",
       "    <tr>\n",
       "      <th>9</th>\n",
       "      <td>Machine Learning Deployment: Shadow Mode “How ...</td>\n",
       "    </tr>\n",
       "  </tbody>\n",
       "</table>\n",
       "</div>"
      ],
      "text/plain": [
       "                                                text\n",
       "0  Training game agents with supervised learning ...\n",
       "1  Azure Machine Learning Template Azure Machine ...\n",
       "2  Finetune: Scikit-learn Style Model Finetuning ...\n",
       "3  Understanding Convolutional Neural Networks fo...\n",
       "4  Spacy-Go spacy-go is Golang interface for acce...\n",
       "5  Semixup: In- and Out-of-Manifold Regularizatio...\n",
       "6  Pytest The pytest framework makes it easy to w...\n",
       "7  Short Notes on Model-Based Offline Reinforceme...\n",
       "8  How to Train a New Language Model From Scratch...\n",
       "9  Machine Learning Deployment: Shadow Mode “How ..."
      ]
     },
     "execution_count": 156,
     "metadata": {},
     "output_type": "execute_result"
    }
   ],
   "source": [
    "train_df_aug.head(10)"
   ]
  },
  {
   "cell_type": "markdown",
   "metadata": {},
   "source": [
    "## Baseline"
   ]
  },
  {
   "cell_type": "code",
   "execution_count": 246,
   "metadata": {},
   "outputs": [],
   "source": [
    "from sklearn.feature_extraction.text import TfidfVectorizer\n",
    "from sklearn.metrics import precision_recall_fscore_support\n",
    "from sklearn.preprocessing import LabelEncoder\n",
    "import nltk\n",
    "from nltk.corpus import stopwords\n",
    "from nltk.stem import PorterStemmer\n",
    "import random\n",
    "import numpy as np\n",
    "import warnings\n",
    "warnings.filterwarnings(\"ignore\")\n",
    "import json\n"
   ]
  },
  {
   "cell_type": "code",
   "execution_count": 158,
   "metadata": {},
   "outputs": [],
   "source": [
    "def set_seed(seed=42):\n",
    "    np.random.seed(seed)\n",
    "    random.seed(seed)"
   ]
  },
  {
   "cell_type": "code",
   "execution_count": 191,
   "metadata": {},
   "outputs": [],
   "source": [
    "# Read the data\n",
    "set_seed()\n",
    "df = pd.read_csv('labeled_projects.csv')\n",
    "\n",
    "# Shuffle the data\n",
    "df = df.sample(frac=1).reset_index(drop=True)\n",
    "\n",
    "# Preprocess\n",
    "STOPWORDS = stopwords.words(\"english\")\n",
    "ACCEPTED_TAGS = ['computer-vision', 'mlops', 'natural-language-processing', 'other']\n",
    "df = preprocess(df,lower=True,stem=True,min_freq=75)\n",
    "\n",
    "# Split the data\n",
    "X = df.text.to_numpy()\n",
    "le = LabelEncoder()\n",
    "y = le.fit_transform(df.tag.to_numpy())\n",
    "X_train,X_val,X_test,y_train,y_val,y_test = split_data(X,y,train_size=0.7)\n",
    "\n"
   ]
  },
  {
   "cell_type": "code",
   "execution_count": 195,
   "metadata": {},
   "outputs": [],
   "source": [
    "# Set up the baseline\n",
    "vectorizer = TfidfVectorizer(analyzer='char',ngram_range=(2,7))"
   ]
  },
  {
   "cell_type": "code",
   "execution_count": 196,
   "metadata": {},
   "outputs": [
    {
     "name": "stdout",
     "output_type": "stream",
     "text": [
      "Vectorized features: (668, 98068)\n"
     ]
    }
   ],
   "source": [
    "# Apply the Tfidf vectorizer transform\n",
    "X_train = vectorizer.fit_transform(X_train)\n",
    "X_val = vectorizer.transform(X_val) #Use same vectorizer fit on X_train, for X_val\n",
    "X_test = vectorizer.transform(X_test) #Use same vectorizer fit on X_train, for X_test\n",
    "print(\"Vectorized features:\", X_train.shape)"
   ]
  },
  {
   "cell_type": "code",
   "execution_count": 207,
   "metadata": {},
   "outputs": [
    {
     "name": "stdout",
     "output_type": "stream",
     "text": [
      "{2: 0.003676470588235294, 0: 0.004016064257028112, 3: 0.010869565217391304, 1: 0.01818181818181818}\n"
     ]
    }
   ],
   "source": [
    "#Get class weights\n",
    "def get_class_wts(y_train):\n",
    "    class_wts = {}\n",
    "    for cls,count in Counter(y_train).most_common():\n",
    "        class_wts[cls] = 1.0 / count\n",
    "    print(class_wts)\n",
    "\n",
    "get_class_wts(y_train)\n"
   ]
  },
  {
   "cell_type": "code",
   "execution_count": 216,
   "metadata": {},
   "outputs": [
    {
     "data": {
      "image/png": "[encoded data removed]",
      "text/plain": [
       "<Figure size 640x480 with 1 Axes>"
      ]
     },
     "metadata": {},
     "output_type": "display_data"
    }
   ],
   "source": [
    "## Data imbalance\n",
    "\n",
    "pd.DataFrame(y_train,columns=['tag']).hist();\n"
   ]
  },
  {
   "cell_type": "code",
   "execution_count": null,
   "metadata": {},
   "outputs": [],
   "source": [
    "# %pip install imbalanced-learn==0.8.1"
   ]
  },
  {
   "cell_type": "code",
   "execution_count": 218,
   "metadata": {},
   "outputs": [],
   "source": [
    "#Data imablance handling with imbalance\n",
    "from imblearn.over_sampling import RandomOverSampler"
   ]
  },
  {
   "cell_type": "code",
   "execution_count": 221,
   "metadata": {},
   "outputs": [],
   "source": [
    "sampler = RandomOverSampler(random_state=42,sampling_strategy=\"all\")\n",
    "X_train_over,y_train_over = sampler.fit_resample(X_train,y_train)"
   ]
  },
  {
   "cell_type": "code",
   "execution_count": 223,
   "metadata": {},
   "outputs": [
    {
     "name": "stdout",
     "output_type": "stream",
     "text": [
      "{0: 0.003676470588235294, 2: 0.003676470588235294, 3: 0.003676470588235294, 1: 0.003676470588235294}\n"
     ]
    }
   ],
   "source": [
    "get_class_wts(y_train_over)"
   ]
  },
  {
   "cell_type": "code",
   "execution_count": 226,
   "metadata": {},
   "outputs": [],
   "source": [
    "# Set up baseline\n",
    "from sklearn.linear_model import SGDClassifier\n",
    "from sklearn.metrics import precision_recall_fscore_support,log_loss"
   ]
  },
  {
   "cell_type": "code",
   "execution_count": 227,
   "metadata": {},
   "outputs": [],
   "source": [
    "# Initialize model \n",
    "model = SGDClassifier(loss=\"log\",penalty='l2',max_iter=1,\n",
    "    learning_rate=\"constant\", eta0=1e-1, power_t=0.1,\n",
    "    warm_start=True)"
   ]
  },
  {
   "cell_type": "code",
   "execution_count": 240,
   "metadata": {},
   "outputs": [
    {
     "name": "stdout",
     "output_type": "stream",
     "text": [
      "Epoch#   0  Train loss:  0.1586385384187146  Val loss:  0.4111698010907973\n",
      "Epoch#   10  Train loss:  0.15643107062440306  Val loss:  0.4098591348245485\n",
      "Epoch#   20  Train loss:  0.15484388197737017  Val loss:  0.4090573530829869\n",
      "Epoch#   30  Train loss:  0.15357626077877076  Val loss:  0.40844594901976145\n",
      "Epoch#   40  Train loss:  0.15233427650930054  Val loss:  0.40767360092981664\n",
      "Epoch#   50  Train loss:  0.1515336538174153  Val loss:  0.4073628718172375\n",
      "Epoch#   60  Train loss:  0.1507267761513944  Val loss:  0.4068779030029591\n",
      "Epoch#   70  Train loss:  0.1500949619001463  Val loss:  0.40663446074868465\n",
      "Epoch#   80  Train loss:  0.1495894858408001  Val loss:  0.40642147102062004\n",
      "Epoch#   90  Train loss:  0.14914639036789326  Val loss:  0.4061736029749928\n"
     ]
    }
   ],
   "source": [
    "# Train model\n",
    "\n",
    "max_epochs = 100\n",
    "val_loss = []\n",
    "train_loss = []\n",
    "\n",
    "for epoch in range(max_epochs):\n",
    "    #pass sample and take opt step\n",
    "    model.fit(X_train_over,y_train_over)\n",
    "\n",
    "    #Evaluate\n",
    "    train_loss.append(log_loss(y_train,model.predict_proba(X_train)))\n",
    "    val_loss.append(log_loss(y_val,model.predict_proba(X_val)))\n",
    "\n",
    "    #Log the trainig performance\n",
    "    if epoch%10==0:\n",
    "            print(\"Epoch#  \",epoch, \" Train loss: \",train_loss[-1], \" Val loss: \",val_loss[-1]);\n"
   ]
  },
  {
   "cell_type": "code",
   "execution_count": 247,
   "metadata": {},
   "outputs": [
    {
     "name": "stdout",
     "output_type": "stream",
     "text": [
      "Validation perfomrance\n",
      "{\n",
      "  \"precision\": 0.8711526698433407,\n",
      "  \"recall\": 0.8671328671328671,\n",
      "  \"f1\": 0.8663777899464677\n",
      "}\n"
     ]
    }
   ],
   "source": [
    "# Evaluate your model\n",
    "train_metrics = precision_recall_fscore_support(y_train,model.predict(X_train),average='weighted')\n",
    "val_metrics = precision_recall_fscore_support(y_val,model.predict(X_val),average='weighted')\n",
    "\n",
    "train_performance = {\"precision\": train_metrics[0], \"recall\": train_metrics[1], \"f1\": train_metrics[2]}\n",
    "val_performance = {\"precision\": val_metrics[0], \"recall\": val_metrics[1], \"f1\": val_metrics[2]}\n",
    "\n",
    "print(\"Validation perfomrance\")\n",
    "print (json.dumps(val_performance, indent=2))\n"
   ]
  },
  {
   "cell_type": "code",
   "execution_count": 252,
   "metadata": {},
   "outputs": [
    {
     "data": {
      "text/plain": [
       "array(['natural-language-processing'], dtype=object)"
      ]
     },
     "execution_count": 252,
     "metadata": {},
     "output_type": "execute_result"
    }
   ],
   "source": [
    "#Inference\n",
    "text = 'Transfer learning with transformers for text classification.'\n",
    "pred = model.predict(vectorizer.transform([text]))\n",
    "le.inverse_transform(pred)"
   ]
  },
  {
   "cell_type": "code",
   "execution_count": 262,
   "metadata": {},
   "outputs": [
    {
     "name": "stdout",
     "output_type": "stream",
     "text": [
      "{\n",
      "  \"computer-vision\": 2.812944536473901,\n",
      "  \"mlops\": 0.39408866603613346,\n",
      "  \"natural-language-processing\": 95.6428917355371,\n",
      "  \"other\": 1.150075061952862\n",
      "}\n"
     ]
    }
   ],
   "source": [
    "# Probabilities\n",
    "y_prob = model.predict_proba(vectorizer.transform([text]))\n",
    "probs = {}\n",
    "\n",
    "for i,p in enumerate(y_prob[0]):\n",
    "    probs[ le.inverse_transform([i])[0] ] = p*100.\n",
    "\n",
    "print(json.dumps(probs,indent=2))"
   ]
  },
  {
   "cell_type": "code",
   "execution_count": 295,
   "metadata": {},
   "outputs": [],
   "source": [
    "def custom_predict(probs,inf_thresh,other_idx):\n",
    "    y_pred = []\n",
    "    for p in probs:\n",
    "        cls = np.argmax(p)\n",
    "        cls_prob = np.max(p)\n",
    "        if cls_prob >= inf_thresh:\n",
    "            y_pred.append(cls)\n",
    "        else:\n",
    "            y_pred.append(other_idx)\n",
    "    return y_pred\n",
    "        "
   ]
  },
  {
   "cell_type": "code",
   "execution_count": 296,
   "metadata": {},
   "outputs": [
    {
     "name": "stdout",
     "output_type": "stream",
     "text": [
      "Validation perfomrance\n",
      "{\n",
      "  \"precision\": 0.8920197449609214,\n",
      "  \"recall\": 0.7622377622377622,\n",
      "  \"f1\": 0.7914368837328445\n",
      "}\n"
     ]
    }
   ],
   "source": [
    "probs = model.predict_proba(X_val)\n",
    "y_pred = custom_predict(probs,0.7,le.transform(['other'])[0])\n",
    "\n",
    "# Evaluate your model\n",
    "val_metrics = precision_recall_fscore_support(y_val,y_pred,average='weighted')\n",
    "\n",
    "val_performance = {\"precision\": val_metrics[0], \"recall\": val_metrics[1], \"f1\": val_metrics[2]}\n",
    "\n",
    "print(\"Validation perfomrance\")\n",
    "print (json.dumps(val_performance, indent=2))\n"
   ]
  },
  {
   "cell_type": "code",
   "execution_count": 297,
   "metadata": {},
   "outputs": [
    {
     "name": "stdout",
     "output_type": "stream",
     "text": [
      "Validation perfomrance\n",
      "{\n",
      "  \"precision\": 0.8711526698433407,\n",
      "  \"recall\": 0.8671328671328671,\n",
      "  \"f1\": 0.8663777899464677\n",
      "}\n"
     ]
    }
   ],
   "source": [
    "# probs = model.predict_proba(X_val)\n",
    "y_pred = model.predict(X_val)\n",
    "\n",
    "# Evaluate your model\n",
    "val_metrics = precision_recall_fscore_support(y_val,y_pred,average='weighted')\n",
    "\n",
    "val_performance = {\"precision\": val_metrics[0], \"recall\": val_metrics[1], \"f1\": val_metrics[2]}\n",
    "\n",
    "print(\"Validation perfomrance\")\n",
    "print (json.dumps(val_performance, indent=2))\n"
   ]
  },
  {
   "cell_type": "code",
   "execution_count": 298,
   "metadata": {},
   "outputs": [
    {
     "name": "stdout",
     "output_type": "stream",
     "text": [
      "Validation perfomrance\n",
      "{\n",
      "  \"precision\": 0.9081920903954802,\n",
      "  \"recall\": 0.7291666666666666,\n",
      "  \"f1\": 0.7698581200796392\n",
      "}\n"
     ]
    }
   ],
   "source": [
    "# Test probs\n",
    "probs = model.predict_proba(X_test)\n",
    "y_pred = custom_predict(probs,0.7,le.transform(['other'])[0])\n",
    "\n",
    "# Evaluate your model\n",
    "test_metrics = precision_recall_fscore_support(y_test,y_pred,average='weighted')\n",
    "\n",
    "test_performance = {\"precision\": test_metrics[0], \"recall\": test_metrics[1], \"f1\": test_metrics[2]}\n",
    "\n",
    "print(\"Validation perfomrance\")\n",
    "print (json.dumps(test_performance, indent=2))\n"
   ]
  },
  {
   "cell_type": "code",
   "execution_count": null,
   "metadata": {},
   "outputs": [],
   "source": []
  }
 ],
 "metadata": {
  "kernelspec": {
   "display_name": "Python 3.10.0 64-bit",
   "language": "python",
   "name": "python3"
  },
  "language_info": {
   "codemirror_mode": {
    "name": "ipython",
    "version": 3
   },
   "file_extension": ".py",
   "mimetype": "text/x-python",
   "name": "python",
   "nbconvert_exporter": "python",
   "pygments_lexer": "ipython3",
   "version": "3.10.0"
  },
  "orig_nbformat": 4,
  "vscode": {
   "interpreter": {
    "hash": "aee8b7b246df8f9039afb4144a1f6fd8d2ca17a180786b69acc140d282b71a49"
   }
  }
 },
 "nbformat": 4,
 "nbformat_minor": 2
}
